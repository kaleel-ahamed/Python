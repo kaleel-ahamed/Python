{
 "cells": [
  {
   "cell_type": "code",
   "execution_count": 1,
   "metadata": {},
   "outputs": [
    {
     "name": "stdout",
     "output_type": "stream",
     "text": [
      "**********************************************************************************\n",
      "Exercise 1 : Using pop , insert & Append Methods ********************************\n",
      "**********************************************************************************\n",
      "Original List :  [34, 54, 67, 89, 11, 43, 94]\n",
      "**********************************************************************************\n",
      "After removing the 4th index element :  [34, 54, 67, 89, 43, 94]\n",
      "After Inserting the 4th index element at 2nd Index :  [34, 54, 11, 67, 89, 43, 94]\n",
      "After Inserting the 4th index element at Last  :  [34, 54, 11, 67, 89, 43, 94, 11]\n",
      "**********************************************************************************\n"
     ]
    }
   ],
   "source": [
    "my_list=[34, 54, 67, 89, 11, 43, 94]\n",
    "\n",
    "\n",
    "list_4thidx_value=my_list[4]\n",
    "\n",
    "print(\"**********************************************************************************\")\n",
    "print('Exercise 1 : Using pop , insert & Append Methods ********************************')\n",
    "print(\"**********************************************************************************\")\n",
    "print('Original List : ',my_list)\n",
    "print(\"**********************************************************************************\")\n",
    "\n",
    "my_list.remove(list_4thidx_value)\n",
    "print('After removing the 4th index element : ',my_list)\n",
    "\n",
    "my_list.insert(2,list_4thidx_value)\n",
    "print('After Inserting the 4th index element at 2nd Index : ',my_list)\n",
    "\n",
    "my_list.append(list_4thidx_value)\n",
    "print('After Inserting the 4th index element at Last  : ',my_list)\n",
    "\n",
    "\n",
    "print(\"**********************************************************************************\")"
   ]
  },
  {
   "cell_type": "code",
   "execution_count": 2,
   "metadata": {},
   "outputs": [
    {
     "name": "stdout",
     "output_type": "stream",
     "text": [
      "********************************************************************\n",
      "Exercise 2 : Using Sort & Reverse Methods  ************************\n",
      "********************************************************************\n",
      "The Original List is: [100, 200, 300, 400, 500]\n",
      "The Result After Descending Order: [500, 400, 300, 200, 100]\n",
      "The Result After Reverse Method: [500, 400, 300, 200, 100]\n",
      "********************************************************************\n"
     ]
    }
   ],
   "source": [
    "my_list=[100, 200, 300, 400, 500]\n",
    "\n",
    "\n",
    "\n",
    "print(\"********************************************************************\")\n",
    "print('Exercise 2 : Using Sort & Reverse Methods  ************************')\n",
    "print(\"********************************************************************\")\n",
    "print(\"The Original List is:\", my_list)\n",
    "my_list.sort(reverse=True)\n",
    "print(\"The Result After Descending Order:\", my_list)\n",
    "\n",
    "my_list=[100, 200, 300, 400, 500]\n",
    "my_list.reverse()\n",
    "print(\"The Result After Reverse Method:\", my_list)\n",
    "\n",
    "print(\"********************************************************************\")"
   ]
  },
  {
   "cell_type": "code",
   "execution_count": 3,
   "metadata": {},
   "outputs": [
    {
     "name": "stdout",
     "output_type": "stream",
     "text": [
      "********************************************************************\n",
      "Exercise 3 : using Arithmetic operator &  Extend  Methods *********\n",
      "********************************************************************\n",
      "Original List 1:  ['Hello ', 'take ']\n",
      "Original List 2:  ['Dear', 'Sir']\n",
      "********************************************************************\n",
      "Output using \"+\" operator     :  ['Hello ', 'take ', 'Dear', 'Sir']\n",
      "Output using \"Extend\" Method  :  ['Hello ', 'take ', 'Dear', 'Sir']\n",
      "********************************************************************\n"
     ]
    }
   ],
   "source": [
    "list1 = ['Hello ', 'take ']\n",
    "list2 = ['Dear', 'Sir']\n",
    "\n",
    "print(\"********************************************************************\")\n",
    "print('Exercise 3 : using Arithmetic operator &  Extend  Methods *********' )\n",
    "print(\"********************************************************************\")\n",
    "print('Original List 1: ' , list1)\n",
    "print('Original List 2: ' , list2)\n",
    "list3 = list1 + list2\n",
    "list4 = list1.extend(list2)\n",
    "\n",
    "print(\"********************************************************************\")\n",
    "print('Output using \"+\" operator     : ' , list3)\n",
    "print('Output using \"Extend\" Method  : ' ,list1)\n",
    "print(\"********************************************************************\")"
   ]
  },
  {
   "cell_type": "code",
   "execution_count": 4,
   "metadata": {},
   "outputs": [
    {
     "name": "stdout",
     "output_type": "stream",
     "text": [
      "**************************************************************************\n",
      "Exercise 4 : Using Append method add value in Nested/sub nested List ****\n",
      "**************************************************************************\n",
      "The Original List is: [10, 20, [300, 400, [5000, 6000], 500], 30, 40]\n",
      "Output :  [10, 20, [300, 400, [5000, 6000, 7000], 500], 30, 40]\n",
      "********************************************************************\n"
     ]
    }
   ],
   "source": [
    "my_list=[10, 20, [300, 400, [5000, 6000], 500], 30, 40]\n",
    "\n",
    "\n",
    "print(\"**************************************************************************\")\n",
    "print('Exercise 4 : Using Append method add value in Nested/sub nested List ****')\n",
    "print(\"**************************************************************************\")\n",
    "print(\"The Original List is:\", my_list)\n",
    "my_list[2][2].append(7000)\n",
    "print(\"Output : \",my_list)\n",
    "\n",
    "print(\"********************************************************************\")"
   ]
  },
  {
   "cell_type": "code",
   "execution_count": 5,
   "metadata": {},
   "outputs": [
    {
     "name": "stdout",
     "output_type": "stream",
     "text": [
      "********************************************************************\n",
      "Exercise 5 : Using Extend method add value in Nested/sub nested List ****\n",
      "********************************************************************\n",
      "The Original List is: ['a', 'b', ['c', ['d', 'e', ['f', 'g'], 'k'], 'l'], 'm', 'n']\n",
      "Output:  ['a', 'b', ['c', ['d', 'e', ['f', 'g', 'h', 'i', 'j'], 'k'], 'l'], 'm', 'n']\n",
      "********************************************************************\n"
     ]
    }
   ],
   "source": [
    "my_list=['a', 'b', ['c', ['d', 'e', ['f', 'g'], 'k'], 'l'], 'm', 'n']\n",
    "\n",
    "\n",
    "print(\"********************************************************************\")\n",
    "print('Exercise 5 : Using Extend method add value in Nested/sub nested List ****')\n",
    "print(\"********************************************************************\")\n",
    "print(\"The Original List is:\", my_list)\n",
    "\n",
    "my_list[2][1][2].extend(['h','i','j'])\n",
    "print(\"Output: \",my_list)\n",
    "print(\"********************************************************************\")"
   ]
  },
  {
   "cell_type": "code",
   "execution_count": 6,
   "metadata": {},
   "outputs": [
    {
     "name": "stdout",
     "output_type": "stream",
     "text": [
      "************************************************************************************\n",
      "Exercise 6 : Using Index method to search 1st occurence of indx  value in List ****\n",
      "************************************************************************************\n",
      "The Original List is: [5, 10, 15, 20, 25, 50, 20]\n",
      "Output of :  [5, 10, 15, 200, 25, 50, 20]\n",
      "**********************************************************************************\n"
     ]
    }
   ],
   "source": [
    "my_list6 = [5, 10, 15, 20, 25, 50, 20]\n",
    "\n",
    "\n",
    "print(\"************************************************************************************\")\n",
    "print('Exercise 6 : Using Index method to search 1st occurence of indx  value in List ****')\n",
    "      \n",
    "print(\"************************************************************************************\")\n",
    "print(\"The Original List is:\", my_list6)\n",
    "\n",
    "index = my_list6.index(20)\n",
    "my_list6[index] = 200\n",
    "print('Output of : ' , my_list6)\n",
    "\n",
    "print(\"**********************************************************************************\")"
   ]
  }
 ],
 "metadata": {
  "kernelspec": {
   "display_name": "Python 3",
   "language": "python",
   "name": "python3"
  },
  "language_info": {
   "codemirror_mode": {
    "name": "ipython",
    "version": 3
   },
   "file_extension": ".py",
   "mimetype": "text/x-python",
   "name": "python",
   "nbconvert_exporter": "python",
   "pygments_lexer": "ipython3",
   "version": "3.7.4"
  }
 },
 "nbformat": 4,
 "nbformat_minor": 2
}
